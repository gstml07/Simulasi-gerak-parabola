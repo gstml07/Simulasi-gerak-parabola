{
  "nbformat": 4,
  "nbformat_minor": 0,
  "metadata": {
    "colab": {
      "provenance": []
    },
    "kernelspec": {
      "name": "python3",
      "display_name": "Python 3"
    },
    "language_info": {
      "name": "python"
    }
  },
  "cells": [
    {
      "cell_type": "code",
      "source": [
        "#cara menampilkan hasil\n",
        "\n",
        "m = 10\n",
        "print(m)\n",
        "print(\"hasil m+m = \", m+m)\n",
        "print(\"hasil m x m = \", m*m)\n",
        "\n",
        "#menampilkan karakter\n",
        "kar_1 = 'AKU KUAT'\n",
        "kar_2 = 'AKU HEBAT'\n",
        "kar_3 = 'HARUS SEMANGATTTT'\n",
        "print(kar_1+' '+kar_2+' '+kar_3)\n",
        "print(kar_1[2:10])\n",
        "karakter = 'AKU KUAT AKU HEBAT AKU SEMANGATTTT'\n",
        "print(karakter.split())\n",
        "\n",
        "from math import sqrt\n",
        "from math import pi\n",
        "\n",
        "#operasi hitungan sederhana\n",
        "a = 25\n",
        "b = 25\n",
        "c = 2.5\n",
        "d = 25/5\n",
        "\n",
        "print(a+b)\n",
        "print(\"bentuk bilangan integer = \", int(b))\n",
        "print(\"bentuk bilangan float = \", float(a))\n",
        "print(\"perkalian c x d = \", c*d)\n",
        "print(\"-----------------------\")\n",
        "print(\"contoh soal\")\n",
        "print(\"Tentukan kecepatan (v) dengan usaha (w) = 35; jarak (s) = 25; waktu(t) = 5)\")\n",
        "w = 35\n",
        "s = 25\n",
        "t = 5\n",
        "\n",
        "#v = s/t\n",
        "kecepatan = s/t\n",
        "print(kecepatan, \"m/s\")\n",
        "\n",
        "print(\"-----------------------\")\n",
        "print(\"soal 1\")\n",
        "print(\"Tentukan energi dalam J dari m = 9.31x10^-31; c = 3*10^8\")\n",
        "m = 9.31*10**-31\n",
        "c = 3*10**8\n",
        "\n",
        "#energi\n",
        "E = m * c**2\n",
        "print(E)\n",
        "\n",
        "print(\"-----------------------\")\n",
        "print(\"soal 2\")\n",
        "print(\"Tentukan periode dalam s (l = 20 m ; g = 9.8 m/s^2)\")\n",
        "l = 20\n",
        "g = 9.8\n",
        "\n",
        "#periode = 2 x pi x sqrt (l/g)\n",
        "periode = 2 * pi * sqrt (l/g)\n",
        "print (periode)\n",
        "\n",
        "from numpy import *\n",
        "#menampilkan matriks\n",
        "M = [[0 , 1 , 1 , 0]] , [[2,3,2,1]]\n",
        "print(M)\n",
        "\n",
        "a = zeros ((3,3), int)\n",
        "a[1,1] = 4\n",
        "a[2,0:2] = [4,4]\n",
        "print (a)\n",
        "\n",
        "from numpy import array\n",
        "print(' ')\n",
        "A = array([[2,3,4],[2,3,6]])\n",
        "print (A)\n",
        "\n",
        "import matplotlib.pyplot as plt\n",
        "from numpy import arange,sin,cos\n",
        "\n",
        "x = arange(0.0,6.0,0.1)\n",
        "plt.plot(x,sin(x),'o-',x,cos(x),'s-')\n",
        "plt.title('GRAFIK SINUSOIDAL')\n",
        "plt.xlabel('x')\n",
        "plt.ylabel('y')\n",
        "plt.legend('sinus','cosinus',loc = 0)\n",
        "plt.grid(True)\n",
        "plt.show()"
      ],
      "metadata": {
        "colab": {
          "base_uri": "https://localhost:8080/",
          "height": 1000
        },
        "id": "jZujmhc0PflL",
        "outputId": "63d4fd1e-0850-49a1-a8af-cf4e8158cf4f"
      },
      "execution_count": null,
      "outputs": [
        {
          "output_type": "stream",
          "name": "stdout",
          "text": [
            "10\n",
            "hasil m+m =  20\n",
            "hasil m x m =  100\n",
            "AKU KUAT AKU HEBAT HARUS SEMANGATTTT\n",
            "U KUAT\n",
            "['AKU', 'KUAT', 'AKU', 'HEBAT', 'AKU', 'SEMANGATTTT']\n",
            "50\n",
            "bentuk bilangan integer =  25\n",
            "bentuk bilangan float =  25.0\n",
            "perkalian c x d =  12.5\n",
            "-----------------------\n",
            "contoh soal\n",
            "Tentukan kecepatan (v) dengan usaha (w) = 35; jarak (s) = 25; waktu(t) = 5)\n",
            "5.0 m/s\n",
            "-----------------------\n",
            "soal 1\n",
            "Tentukan energi dalam J dari m = 9.31x10^-31; c = 3*10^8\n",
            "8.379e-14\n",
            "-----------------------\n",
            "soal 2\n",
            "Tentukan periode dalam s (l = 20 m ; g = 9.8 m/s^2)\n",
            "8.975979010256552\n",
            "([[0, 1, 1, 0]], [[2, 3, 2, 1]])\n",
            "[[0 0 0]\n",
            " [0 4 0]\n",
            " [4 4 0]]\n",
            " \n",
            "[[2 3 4]\n",
            " [2 3 6]]\n"
          ]
        },
        {
          "output_type": "stream",
          "name": "stderr",
          "text": [
            "/usr/local/lib/python3.7/dist-packages/ipykernel_launcher.py:84: UserWarning: Legend does not support 's' instances.\n",
            "A proxy artist may be used instead.\n",
            "See: http://matplotlib.org/users/legend_guide.html#creating-artists-specifically-for-adding-to-the-legend-aka-proxy-artists\n",
            "/usr/local/lib/python3.7/dist-packages/ipykernel_launcher.py:84: UserWarning: Legend does not support 'i' instances.\n",
            "A proxy artist may be used instead.\n",
            "See: http://matplotlib.org/users/legend_guide.html#creating-artists-specifically-for-adding-to-the-legend-aka-proxy-artists\n",
            "/usr/local/lib/python3.7/dist-packages/ipykernel_launcher.py:84: UserWarning: Legend does not support 'n' instances.\n",
            "A proxy artist may be used instead.\n",
            "See: http://matplotlib.org/users/legend_guide.html#creating-artists-specifically-for-adding-to-the-legend-aka-proxy-artists\n",
            "/usr/local/lib/python3.7/dist-packages/ipykernel_launcher.py:84: UserWarning: Legend does not support 'u' instances.\n",
            "A proxy artist may be used instead.\n",
            "See: http://matplotlib.org/users/legend_guide.html#creating-artists-specifically-for-adding-to-the-legend-aka-proxy-artists\n"
          ]
        },
        {
          "output_type": "display_data",
          "data": {
            "text/plain": [
              "<Figure size 432x288 with 1 Axes>"
            ],
            "image/png": "[encoded data removed]"
          },
          "metadata": {
            "needs_background": "light"
          }
        }
      ]
    },
    {
      "cell_type": "code",
      "source": [
        "n = 1.5 #indeks bias medium 1\n",
        "\n",
        "R1 = 20 #cm\n",
        "R2 = 18 #cm\n",
        "\n",
        "F = (n-1)*((1/R1)+(1/R2))\n",
        "F = 1/F\n",
        "print(\"Jarak Fokus Lensa = \",F,\"cm\")"
      ],
      "metadata": {
        "colab": {
          "base_uri": "https://localhost:8080/"
        },
        "id": "tXoVzf8-NBJF",
        "outputId": "93f35c4b-f7c1-41a8-9d2c-aa6abee549bc"
      },
      "execution_count": null,
      "outputs": [
        {
          "output_type": "stream",
          "name": "stdout",
          "text": [
            "Jarak Fokus Lensa =  18.94736842105263 cm\n"
          ]
        }
      ]
    },
    {
      "cell_type": "code",
      "source": [
        "import numpy as np\n",
        "import matplotlib.pyplot as plt\n",
        "\n",
        "alpha = np.radians(45)\n",
        "g = 9.8\n",
        "v0 = 10\n",
        "\n",
        "v0x = v0*np.cos(alpha)\n",
        "v0y = v0*np.sin(alpha)\n",
        "\n",
        "X = ((v0**2)*np.sin(2*alpha))/(2*g)\n",
        "print(\"Jarak Horizontal Maksimum = \",X,\" m\")\n",
        "Y = ((v0**2)*(np.sin(alpha)**2))/(2*g)\n",
        "print(\"Jarak Vertikal Maksimum = \",Y,\" m\")\n",
        "T = (2*v0*np.sin(alpha))/g\n",
        "print(\"Waktu Mencapai Jarak Horizontal Maksimum = \",T,\" s\")\n",
        "print(\"\\n\")\n",
        "\n",
        "t = np.arange(0.0, T, 0.01)\n",
        "y = v0y*t - 0.5*g*t**2\n",
        "x = v0x*t\n",
        "\n",
        "fig, ax = plt.subplots()\n",
        "ax.plot(x, y)\n",
        "ax.set(xlabel='x (m)', ylabel= 'y (m)', title='Grafik Gerak Parabola')\n",
        "ax.grid()\n",
        "plt.show()"
      ],
      "metadata": {
        "colab": {
          "base_uri": "https://localhost:8080/",
          "height": 382
        },
        "id": "1Ore6Z1LNl2S",
        "outputId": "01821a8d-d57c-4147-ba36-a073c732d177"
      },
      "execution_count": null,
      "outputs": [
        {
          "output_type": "stream",
          "name": "stdout",
          "text": [
            "Jarak Horizontal Maksimum =  5.1020408163265305  m\n",
            "Jarak Vertikal Maksimum =  2.5510204081632644  m\n",
            "Waktu Mencapai Jarak Horizontal Maksimum =  1.4430750636460152  s\n",
            "\n",
            "\n"
          ]
        },
        {
          "output_type": "display_data",
          "data": {
            "text/plain": [
              "<Figure size 432x288 with 1 Axes>"
            ],
            "image/png": "[encoded data removed]"
          },
          "metadata": {
            "needs_background": "light"
          }
        }
      ]
    }
  ]
}